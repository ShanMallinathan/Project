{
 "cells": [
  {
   "cell_type": "code",
   "execution_count": 4,
   "metadata": {},
   "outputs": [
    {
     "name": "stdout",
     "output_type": "stream",
     "text": [
      "Depth value at (545, 177): 3708 mm\n"
     ]
    }
   ],
   "source": [
    "import pyrealsense2 as rs\n",
    "import numpy as np\n",
    "import cv2\n",
    "\n",
    "# Global variables to store the captured pixel values\n",
    "depth_value = None\n",
    "color_value = None\n",
    "\n",
    "# Callback function for mouse click events\n",
    "def mouse_callback(event, x, y, flags, param):\n",
    "    global depth_value, color_value\n",
    "    if event == cv2.EVENT_LBUTTONDOWN:\n",
    "        depth_value = depth_image[y, x]\n",
    "        color_value = color_image[y, x]\n",
    "        print(f\"Depth value at ({x}, {y}): {depth_value} mm\")\n",
    "\n",
    "# Configure depth and RGB streams\n",
    "pipeline = rs.pipeline()\n",
    "config = rs.config()\n",
    "config.enable_stream(rs.stream.depth, 640, 480, rs.format.z16, 30)\n",
    "config.enable_stream(rs.stream.color, 640, 480, rs.format.bgr8, 30)\n",
    "\n",
    "# Start streaming\n",
    "pipeline.start(config)\n",
    "\n",
    "try:\n",
    "    while True:\n",
    "        # Wait for a new frame from the camera\n",
    "        frames = pipeline.wait_for_frames()\n",
    "\n",
    "        # Get depth and RGB frames\n",
    "        depth_frame = frames.get_depth_frame()\n",
    "        color_frame = frames.get_color_frame()\n",
    "\n",
    "        if not depth_frame or not color_frame:\n",
    "            continue\n",
    "\n",
    "        # Convert depth frame to a numpy array\n",
    "        depth_image = np.asanyarray(depth_frame.get_data())\n",
    "\n",
    "        # Convert color frame to a numpy array\n",
    "        color_image = np.asanyarray(color_frame.get_data())\n",
    "\n",
    "        # Display the color image\n",
    "        cv2.imshow(\"Color Image\", color_image)\n",
    "        cv2.setMouseCallback(\"Color Image\", mouse_callback)\n",
    "\n",
    "        if cv2.waitKey(1) == 27:\n",
    "            break\n",
    "\n",
    "finally:\n",
    "    # Stop streaming\n",
    "    pipeline.stop()\n",
    "\n",
    "# Close OpenCV windows\n",
    "cv2.destroyAllWindows()\n"
   ]
  }
 ],
 "metadata": {
  "kernelspec": {
   "display_name": "Python 3",
   "language": "python",
   "name": "python3"
  },
  "language_info": {
   "codemirror_mode": {
    "name": "ipython",
    "version": 3
   },
   "file_extension": ".py",
   "mimetype": "text/x-python",
   "name": "python",
   "nbconvert_exporter": "python",
   "pygments_lexer": "ipython3",
   "version": "3.8.10"
  },
  "orig_nbformat": 4
 },
 "nbformat": 4,
 "nbformat_minor": 2
}
