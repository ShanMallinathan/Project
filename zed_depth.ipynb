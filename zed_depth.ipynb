{
 "cells": [
  {
   "cell_type": "code",
   "execution_count": 101,
   "metadata": {},
   "outputs": [],
   "source": [
    "import pyzed.sl as sl\n",
    "import cv2\n",
    "import math\n",
    "zed = sl.Camera()"
   ]
  },
  {
   "cell_type": "code",
   "execution_count": 102,
   "metadata": {},
   "outputs": [],
   "source": [
    "# Set configuration parameters\n",
    "init_params = sl.InitParameters()\n",
    "init_params.camera_resolution = sl.RESOLUTION.HD1080\n",
    "init_params.camera_fps = 30\n",
    "\n",
    "# Open the camera\n",
    "err = zed.open(init_params)\n",
    "if err != sl.ERROR_CODE.SUCCESS:\n",
    "    print(\"Error {}, exit program\".format(err)) # Display the error\n",
    "    exit()"
   ]
  },
  {
   "cell_type": "code",
   "execution_count": 103,
   "metadata": {},
   "outputs": [],
   "source": [
    "# if zed.grab() == sl.ERROR_CODE.SUCCESS:\n",
    "#     # Retrieve the left image in sl.Mat\n",
    "#     zed.retrieve_image(image_zed, sl.VIEW.LEFT)\n",
    "#     # Use get_data() to get the numpy array\n",
    "#     image_ocv = image_zed.get_data()"
   ]
  },
  {
   "cell_type": "code",
   "execution_count": 104,
   "metadata": {},
   "outputs": [],
   "source": [
    "cv2.namedWindow(\"Image\")\n",
    "x_coord = None\n",
    "y_coord = None\n",
    "def mouse_callback(event, x, y, flags, param):\n",
    "    global coord, y_coord\n",
    "    if event == cv2.EVENT_LBUTTONDOWN:\n",
    "        # Create a sl.Mat with float type (32-bit)\n",
    "        depth_zed = sl.Mat(zed.get_camera_information().camera_configuration.resolution.width, zed.get_camera_information().camera_configuration.resolution.height, sl.MAT_TYPE.F32_C1)\n",
    "        if zed.grab() == sl.ERROR_CODE.SUCCESS :\n",
    "            # Retrieve depth data (32-bit)\n",
    "            zed.retrieve_measure(depth_zed, sl.MEASURE.DEPTH)\n",
    "            # Load depth data into a numpy array\n",
    "            depth_ocv = depth_zed.get_data()\n",
    "            print(x, y)\n",
    "            # Print the depth value at the center of the image\n",
    "            print(depth_ocv[y][x])\n",
    "            point_cloud = sl.Mat()\n",
    "            zed.retrieve_measure(point_cloud, sl.MEASURE.XYZRGBA)\n",
    "            point3D = point_cloud.get_value(x, y)\n",
    "            x_dist = point3D[1][0]\n",
    "            y_dist = point3D[1][1]\n",
    "            z_dist = point3D[1][2]\n",
    "            color = point3D[1][3]\n",
    "            print(\"X = \", x_dist, \"\\nY = \", y_dist, \"\\nZ = \", z_dist)\n",
    "            rad = math.sqrt(x_dist**2 + y_dist**2 + z_dist**2)\n",
    "            print(\"Distance = \", rad)\n",
    "                    "
   ]
  },
  {
   "cell_type": "code",
   "execution_count": 105,
   "metadata": {},
   "outputs": [
    {
     "name": "stdout",
     "output_type": "stream",
     "text": [
      "390 506\n",
      "2290.1792\n",
      "X =  -1254.499755859375 \n",
      "Y =  -82.22974395751953 \n",
      "Z =  2290.17919921875\n",
      "Distance =  2612.5566276689174\n"
     ]
    }
   ],
   "source": [
    "\n",
    "\n",
    "while(True):\n",
    "    # Create an RGBA sl.Mat object\n",
    "    image_zed = sl.Mat(zed.get_camera_information().camera_configuration.resolution.width, zed.get_camera_information().camera_configuration.resolution.height, sl.MAT_TYPE.U8_C4)\n",
    "    # Retrieve data in a numpy array with get_data()\n",
    "    image_ocv = image_zed.get_data()\n",
    "    cv2.namedWindow(\"Left\")\n",
    "    if zed.grab() == sl.ERROR_CODE.SUCCESS :\n",
    "        # Retrieve the left image in sl.Mat\n",
    "        zed.retrieve_image(image_zed, sl.VIEW.LEFT)\n",
    "        # Use get_data() to get the numpy array\n",
    "        image_ocv = image_zed.get_data()\n",
    "        # Display the left image from the numpy array\n",
    "        cv2.imshow(\"Left\", image_ocv)\n",
    "        # Create an RGBA sl.Mat object\n",
    "    image_depth_zed = sl.Mat(zed.get_camera_information().camera_configuration.resolution.width, zed.get_camera_information().camera_configuration.resolution.height, sl.MAT_TYPE.U8_C4)\n",
    "    if zed.grab() == sl.ERROR_CODE.SUCCESS :\n",
    "        # Retrieve the normalized depth image\n",
    "        zed.retrieve_image(image_depth_zed, sl.VIEW.DEPTH)\n",
    "        # Use get_data() to get the numpy array\n",
    "        image_depth_ocv = image_depth_zed.get_data()\n",
    "        # print(image_depth_ocv.shape)\n",
    "        cv2.setMouseCallback(\"Left\", mouse_callback)\n",
    "        # Display the depth view from the numpy array\n",
    "        cv2.imshow(\"Image\", image_depth_ocv)\n",
    "        if(cv2.waitKey(1) == 27):\n",
    "            cv2.destroyAllWindows()\n",
    "            zed.close()\n",
    "            break"
   ]
  }
 ],
 "metadata": {
  "kernelspec": {
   "display_name": "Python 3",
   "language": "python",
   "name": "python3"
  },
  "language_info": {
   "codemirror_mode": {
    "name": "ipython",
    "version": 3
   },
   "file_extension": ".py",
   "mimetype": "text/x-python",
   "name": "python",
   "nbconvert_exporter": "python",
   "pygments_lexer": "ipython3",
   "version": "3.8.10"
  },
  "orig_nbformat": 4
 },
 "nbformat": 4,
 "nbformat_minor": 2
}
