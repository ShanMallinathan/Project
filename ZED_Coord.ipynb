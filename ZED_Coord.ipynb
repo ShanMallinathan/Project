{
 "cells": [
  {
   "cell_type": "code",
   "execution_count": 19,
   "metadata": {},
   "outputs": [],
   "source": [
    "import pyzed.sl as sl\n",
    "import cv2\n",
    "zed = sl.Camera()"
   ]
  },
  {
   "cell_type": "code",
   "execution_count": 20,
   "metadata": {},
   "outputs": [],
   "source": [
    "# Set configuration parameters\n",
    "init_params = sl.InitParameters()\n",
    "init_params.depth_mode = sl.DEPTH_MODE.ULTRA # Use ULTRA depth mode\n",
    "init_params.coordinate_units = sl.UNIT.MILLIMETER # Use millimeter units (for depth measurements)\n",
    "\n",
    "# Open the camera\n",
    "err = zed.open(init_params)\n",
    "if err != sl.ERROR_CODE.SUCCESS:\n",
    "    print(\"Error {}, exit program\".format(err)) # Display the error\n",
    "    exit()"
   ]
  },
  {
   "cell_type": "code",
   "execution_count": 21,
   "metadata": {},
   "outputs": [],
   "source": [
    "image = sl.Mat()\n",
    "depth_map = sl.Mat()\n",
    "runtime_parameters = sl.RuntimeParameters()\n",
    "if zed.grab(runtime_parameters) == sl.ERROR_CODE.SUCCESS :\n",
    "  # A new image and depth is available if grab() returns SUCCESS\n",
    "  zed.retrieve_image(image, sl.VIEW.LEFT) # Retrieve left image\n",
    "  zed.retrieve_measure(depth_map, sl.MEASURE.DEPTH) # Retrieve depth"
   ]
  },
  {
   "cell_type": "code",
   "execution_count": 22,
   "metadata": {},
   "outputs": [
    {
     "data": {
      "text/plain": [
       "SUCCESS"
      ]
     },
     "execution_count": 22,
     "metadata": {},
     "output_type": "execute_result"
    }
   ],
   "source": [
    "depth_for_display = sl.Mat()\n",
    "zed.retrieve_image(depth_for_display, sl.VIEW.DEPTH)"
   ]
  },
  {
   "cell_type": "code",
   "execution_count": 23,
   "metadata": {},
   "outputs": [
    {
     "data": {
      "text/plain": [
       "SUCCESS"
      ]
     },
     "execution_count": 23,
     "metadata": {},
     "output_type": "execute_result"
    }
   ],
   "source": [
    "point_cloud = sl.Mat()\n",
    "zed.retrieve_measure(point_cloud, sl.MEASURE.XYZRGBA)"
   ]
  }
 ],
 "metadata": {
  "kernelspec": {
   "display_name": "Python 3",
   "language": "python",
   "name": "python3"
  },
  "language_info": {
   "codemirror_mode": {
    "name": "ipython",
    "version": 3
   },
   "file_extension": ".py",
   "mimetype": "text/x-python",
   "name": "python",
   "nbconvert_exporter": "python",
   "pygments_lexer": "ipython3",
   "version": "3.8.10"
  },
  "orig_nbformat": 4
 },
 "nbformat": 4,
 "nbformat_minor": 2
}
